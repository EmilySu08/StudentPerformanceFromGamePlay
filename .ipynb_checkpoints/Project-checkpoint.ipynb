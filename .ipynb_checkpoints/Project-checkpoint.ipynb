{
 "cells": [
  {
   "cell_type": "code",
   "execution_count": 3,
   "id": "b9c2d549",
   "metadata": {},
   "outputs": [],
   "source": [
    "#import necessary packages\n",
    "import pandas as pd \n",
    "import numpy as np\n",
    "import matplotlib.pyplot as plt\n",
    "from sklearn.model_selection import train_test_split\n",
    "from sklearn.linear_model import LinearRegression\n",
    "from sklearn import tree\n",
    "\n",
    "from sklearn.svm import LinearSVC\n",
    "from sklearn.svm import SVC\n",
    "import time"
   ]
  },
  {
   "cell_type": "code",
   "execution_count": 4,
   "id": "125a6510",
   "metadata": {},
   "outputs": [],
   "source": [
    "train = pd.read_csv(\"train.csv\")\n",
    "test = pd.read_csv(\"test.csv\")\n",
    "trlabels = pd.read_csv(\"train_labels.csv\")\n",
    "\n",
    "sample = pd.read_csv(\"sample_submission.csv\")"
   ]
  },
  {
   "cell_type": "markdown",
   "id": "7151568c",
   "metadata": {},
   "source": [
    "# Data Visualization"
   ]
  },
  {
   "cell_type": "code",
   "execution_count": null,
   "id": "0a4810a7",
   "metadata": {},
   "outputs": [],
   "source": []
  },
  {
   "cell_type": "code",
   "execution_count": null,
   "id": "6502e7a3",
   "metadata": {},
   "outputs": [],
   "source": []
  },
  {
   "cell_type": "code",
   "execution_count": null,
   "id": "286ed33b",
   "metadata": {},
   "outputs": [],
   "source": []
  },
  {
   "cell_type": "code",
   "execution_count": null,
   "id": "d8d54f54",
   "metadata": {},
   "outputs": [],
   "source": []
  },
  {
   "cell_type": "code",
   "execution_count": 23,
   "id": "4204d6f8",
   "metadata": {},
   "outputs": [
    {
     "data": {
      "text/html": [
       "<div>\n",
       "<style scoped>\n",
       "    .dataframe tbody tr th:only-of-type {\n",
       "        vertical-align: middle;\n",
       "    }\n",
       "\n",
       "    .dataframe tbody tr th {\n",
       "        vertical-align: top;\n",
       "    }\n",
       "\n",
       "    .dataframe thead th {\n",
       "        text-align: right;\n",
       "    }\n",
       "</style>\n",
       "<table border=\"1\" class=\"dataframe\">\n",
       "  <thead>\n",
       "    <tr style=\"text-align: right;\">\n",
       "      <th></th>\n",
       "      <th>IDQ</th>\n",
       "      <th>correct</th>\n",
       "      <th>Question</th>\n",
       "      <th>session_id</th>\n",
       "    </tr>\n",
       "  </thead>\n",
       "  <tbody>\n",
       "    <tr>\n",
       "      <th>0</th>\n",
       "      <td>20090312431273200_q1</td>\n",
       "      <td>1</td>\n",
       "      <td>q1</td>\n",
       "      <td>20090312431273200</td>\n",
       "    </tr>\n",
       "    <tr>\n",
       "      <th>1</th>\n",
       "      <td>20090312433251036_q1</td>\n",
       "      <td>0</td>\n",
       "      <td>q1</td>\n",
       "      <td>20090312433251036</td>\n",
       "    </tr>\n",
       "    <tr>\n",
       "      <th>2</th>\n",
       "      <td>20090312455206810_q1</td>\n",
       "      <td>1</td>\n",
       "      <td>q1</td>\n",
       "      <td>20090312455206810</td>\n",
       "    </tr>\n",
       "    <tr>\n",
       "      <th>3</th>\n",
       "      <td>20090313091715820_q1</td>\n",
       "      <td>0</td>\n",
       "      <td>q1</td>\n",
       "      <td>20090313091715820</td>\n",
       "    </tr>\n",
       "    <tr>\n",
       "      <th>4</th>\n",
       "      <td>20090313571836404_q1</td>\n",
       "      <td>1</td>\n",
       "      <td>q1</td>\n",
       "      <td>20090313571836404</td>\n",
       "    </tr>\n",
       "  </tbody>\n",
       "</table>\n",
       "</div>"
      ],
      "text/plain": [
       "                    IDQ  correct Question         session_id\n",
       "0  20090312431273200_q1        1       q1  20090312431273200\n",
       "1  20090312433251036_q1        0       q1  20090312433251036\n",
       "2  20090312455206810_q1        1       q1  20090312455206810\n",
       "3  20090313091715820_q1        0       q1  20090313091715820\n",
       "4  20090313571836404_q1        1       q1  20090313571836404"
      ]
     },
     "execution_count": 23,
     "metadata": {},
     "output_type": "execute_result"
    }
   ],
   "source": [
    "trlabels.head()"
   ]
  },
  {
   "cell_type": "code",
   "execution_count": 5,
   "id": "bfefd4d8",
   "metadata": {},
   "outputs": [],
   "source": [
    "trlabels.rename({'session_id': 'IDQ', 'correct': 'correct'}, axis=1, inplace=True)\n"
   ]
  },
  {
   "cell_type": "code",
   "execution_count": 6,
   "id": "1dced5dc",
   "metadata": {},
   "outputs": [],
   "source": [
    "trlabels['Question'] = np.nan\n",
    "trlabels['session_id'] = np.nan\n",
    "for i in range(0, len(trlabels)):\n",
    "    trlabels.at[i,'Question'] = trlabels['IDQ'].iloc[i][-2: ]\n",
    "    trlabels.at[i,'session_id'] = trlabels['IDQ'].iloc[i][: trlabels['IDQ'].iloc[i].index('_')] #trlabels['IDQ'].iloc[i].index('_')\n",
    "        \n",
    "trlabels['Question'] = trlabels['Question'].replace('10', 'q10')\n",
    "trlabels['Question'] = trlabels['Question'].replace('11', 'q11')\n",
    "trlabels['Question'] = trlabels['Question'].replace('12', 'q12')\n",
    "trlabels['Question'] = trlabels['Question'].replace('13', 'q13')\n",
    "trlabels['Question'] = trlabels['Question'].replace('14', 'q14')\n",
    "trlabels['Question'] = trlabels['Question'].replace('15', 'q15')\n",
    "trlabels['Question'] = trlabels['Question'].replace('16', 'q16')\n",
    "trlabels['Question'] = trlabels['Question'].replace('17', 'q17')\n",
    "trlabels['Question'] = trlabels['Question'].replace('18', 'q18')"
   ]
  },
  {
   "cell_type": "code",
   "execution_count": 7,
   "id": "649ab6ef",
   "metadata": {},
   "outputs": [
    {
     "name": "stdout",
     "output_type": "stream",
     "text": [
      "['20090312431273200' '20090312433251036' '20090312455206810' ...\n",
      " '22100217104993650' '22100219442786200' '22100221145014656']\n",
      "['q1' 'q1' 'q1' ... 'q18' 'q18' 'q18']\n"
     ]
    }
   ],
   "source": [
    "print(trlabels['session_id'].values)\n",
    "print(trlabels['Question'].values)\n",
    "\n",
    "# print(trlabels['IDQ'].iloc[i].index('_'))\n",
    "#separate session ids into question groups (1-18)\n",
    "#merge train w/ train_labels to get correct column"
   ]
  },
  {
   "cell_type": "code",
   "execution_count": null,
   "id": "d2f85403",
   "metadata": {},
   "outputs": [],
   "source": [
    "#merge trlabels and train to get Y (correct) and then predict "
   ]
  },
  {
   "cell_type": "code",
   "execution_count": null,
   "id": "7c88bca8",
   "metadata": {},
   "outputs": [],
   "source": [
    "print(trlabels.at[0,'S_id'])"
   ]
  },
  {
   "cell_type": "code",
   "execution_count": 22,
   "id": "8a094c75",
   "metadata": {},
   "outputs": [
    {
     "name": "stdout",
     "output_type": "stream",
     "text": [
      "26296946\n"
     ]
    }
   ],
   "source": [
    "print(len(train))"
   ]
  },
  {
   "cell_type": "code",
   "execution_count": 71,
   "id": "788f7fb9",
   "metadata": {},
   "outputs": [
    {
     "name": "stdout",
     "output_type": "stream",
     "text": [
      "[0 1 2]\n"
     ]
    }
   ],
   "source": [
    "print(np.unique(sample['session_level']))"
   ]
  },
  {
   "cell_type": "code",
   "execution_count": 88,
   "id": "accb9e33",
   "metadata": {},
   "outputs": [
    {
     "name": "stdout",
     "output_type": "stream",
     "text": [
      "                 session_id  correct Question               S_id\n",
      "0      20090312431273200_q1        1       q1  20090312431273200\n",
      "1      20090312433251036_q1        0       q1  20090312433251036\n",
      "2      20090312455206810_q1        1       q1  20090312455206810\n",
      "3      20090313091715820_q1        0       q1  20090313091715820\n",
      "4      20090313571836404_q1        1       q1  20090313571836404\n",
      "...                     ...      ...      ...                ...\n",
      "23557  22100215342220508_q1        1       q1  22100215342220508\n",
      "23558  22100215460321130_q1        0       q1  22100215460321130\n",
      "23559  22100217104993650_q1        1       q1  22100217104993650\n",
      "23560  22100219442786200_q1        0       q1  22100219442786200\n",
      "23561  22100221145014656_q1        0       q1  22100221145014656\n",
      "\n",
      "[23562 rows x 4 columns]\n"
     ]
    }
   ],
   "source": [
    "print(trlabels.groupby('Question').get_group('q1'))"
   ]
  },
  {
   "cell_type": "code",
   "execution_count": 91,
   "id": "5cb179d0",
   "metadata": {},
   "outputs": [],
   "source": [
    "for i in range(1, 19):\n",
    "    trlabels.groupby('Question').get_group('q' + str(i))"
   ]
  },
  {
   "cell_type": "code",
   "execution_count": 8,
   "id": "35a84cb5",
   "metadata": {},
   "outputs": [],
   "source": [
    "group1 = trlabels.groupby('Question').get_group('q1')\n",
    "\n",
    "IDs = trlabels.groupby('Question').get_group('q1')['session_id']"
   ]
  },
  {
   "cell_type": "code",
   "execution_count": 9,
   "id": "09cd9efe",
   "metadata": {},
   "outputs": [
    {
     "name": "stdout",
     "output_type": "stream",
     "text": [
      "23562\n"
     ]
    }
   ],
   "source": [
    "g1 = train[~train['session_id'].isin(IDs)]  "
   ]
  },
  {
   "cell_type": "code",
   "execution_count": null,
   "id": "82032942",
   "metadata": {},
   "outputs": [],
   "source": [
    "t = g1.groupby('level_group').get_group('0-4')\n",
    "# print(len(g1['session_id']))\n",
    "\n",
    "# print(len(group1))"
   ]
  },
  {
   "cell_type": "code",
   "execution_count": 21,
   "id": "c4c03e7e",
   "metadata": {},
   "outputs": [
    {
     "name": "stdout",
     "output_type": "stream",
     "text": [
      "                 session_id  index  elapsed_time      event_name       name  \\\n",
      "0         20090312431273200      0             0  cutscene_click      basic   \n",
      "1         20090312431273200      1          1323    person_click      basic   \n",
      "2         20090312431273200      2           831    person_click      basic   \n",
      "3         20090312431273200      3          1147    person_click      basic   \n",
      "4         20090312431273200      4          1863    person_click      basic   \n",
      "...                     ...    ...           ...             ...        ...   \n",
      "26295605  22100221145014656    206        352635  navigate_click  undefined   \n",
      "26295606  22100221145014656    207        353336       map_hover      basic   \n",
      "26295607  22100221145014656    208        354020       map_click  undefined   \n",
      "26295608  22100221145014656    209        356238  navigate_click  undefined   \n",
      "26295609  22100221145014656    210        435055      checkpoint      basic   \n",
      "\n",
      "          level  page  room_coor_x  room_coor_y  screen_coor_x  screen_coor_y  \\\n",
      "0             0   NaN  -413.991405  -159.314686          380.0          494.0   \n",
      "1             0   NaN  -413.991405  -159.314686          380.0          494.0   \n",
      "2             0   NaN  -413.991405  -159.314686          380.0          494.0   \n",
      "3             0   NaN  -413.991405  -159.314686          380.0          494.0   \n",
      "4             0   NaN  -412.991405  -159.314686          381.0          494.0   \n",
      "...         ...   ...          ...          ...            ...            ...   \n",
      "26295605      4   NaN  -914.204218   -50.000000           26.0          380.0   \n",
      "26295606      4   NaN          NaN          NaN            NaN            NaN   \n",
      "26295607      4   NaN  -549.217711    -2.000000          449.0          332.0   \n",
      "26295608      4   NaN   313.584260   107.913147          463.0          226.0   \n",
      "26295609      4   NaN          NaN          NaN            NaN            NaN   \n",
      "\n",
      "          hover_duration                           text              fqid  \\\n",
      "0                    NaN                      undefined             intro   \n",
      "1                    NaN  Whatcha doing over there, Jo?            gramps   \n",
      "2                    NaN         Just talking to Teddy.            gramps   \n",
      "3                    NaN     I gotta run to my meeting!            gramps   \n",
      "4                    NaN            Can I come, Gramps?            gramps   \n",
      "...                  ...                            ...               ...   \n",
      "26295605             NaN                            NaN           toentry   \n",
      "26295606            84.0                            NaN  tunic.kohlcenter   \n",
      "26295607             NaN                            NaN   tunic.capitol_0   \n",
      "26295608             NaN                            NaN      chap1_finale   \n",
      "26295609             NaN                            NaN    chap1_finale_c   \n",
      "\n",
      "                               room_fqid  \\\n",
      "0         tunic.historicalsociety.closet   \n",
      "1         tunic.historicalsociety.closet   \n",
      "2         tunic.historicalsociety.closet   \n",
      "3         tunic.historicalsociety.closet   \n",
      "4         tunic.historicalsociety.closet   \n",
      "...                                  ...   \n",
      "26295605     tunic.kohlcenter.halloffame   \n",
      "26295606     tunic.kohlcenter.halloffame   \n",
      "26295607     tunic.kohlcenter.halloffame   \n",
      "26295608            tunic.capitol_0.hall   \n",
      "26295609            tunic.capitol_0.hall   \n",
      "\n",
      "                                                  text_fqid  fullscreen  hq  \\\n",
      "0                      tunic.historicalsociety.closet.intro           0   0   \n",
      "1         tunic.historicalsociety.closet.gramps.intro_0_...           0   0   \n",
      "2         tunic.historicalsociety.closet.gramps.intro_0_...           0   0   \n",
      "3         tunic.historicalsociety.closet.gramps.intro_0_...           0   0   \n",
      "4         tunic.historicalsociety.closet.gramps.intro_0_...           0   0   \n",
      "...                                                     ...         ...  ..   \n",
      "26295605                                                NaN           0   0   \n",
      "26295606                                                NaN           0   0   \n",
      "26295607                                                NaN           0   0   \n",
      "26295608                                                NaN           0   0   \n",
      "26295609                                                NaN           0   0   \n",
      "\n",
      "          music level_group  \n",
      "0             1         0-4  \n",
      "1             1         0-4  \n",
      "2             1         0-4  \n",
      "3             1         0-4  \n",
      "4             1         0-4  \n",
      "...         ...         ...  \n",
      "26295605      1         0-4  \n",
      "26295606      1         0-4  \n",
      "26295607      1         0-4  \n",
      "26295608      1         0-4  \n",
      "26295609      1         0-4  \n",
      "\n",
      "[3981005 rows x 20 columns]\n"
     ]
    }
   ],
   "source": [
    "print(t)"
   ]
  },
  {
   "cell_type": "code",
   "execution_count": 172,
   "id": "304fdd9b",
   "metadata": {},
   "outputs": [
    {
     "name": "stdout",
     "output_type": "stream",
     "text": [
      "26296946\n",
      "23562\n"
     ]
    }
   ],
   "source": [
    "#create train and test data \n",
    "X = g1\n",
    "Y = group1\n",
    "print(len(X))\n",
    "print(len(Y))\n",
    "# train_x, test_x, train_y, test_y = train_test_split(X, Y, test_size=0.4, random_state = 213)"
   ]
  },
  {
   "cell_type": "code",
   "execution_count": 38,
   "id": "9d0d2204",
   "metadata": {},
   "outputs": [],
   "source": [
    "#construct models\n",
    "#print(X)\n",
    "reg = LinearRegression().fit(train_x, (train_y))\n"
   ]
  },
  {
   "cell_type": "code",
   "execution_count": 40,
   "id": "743c56b6",
   "metadata": {},
   "outputs": [
    {
     "name": "stdout",
     "output_type": "stream",
     "text": [
      "[12.23526119 12.2352612  12.23526876]\n"
     ]
    }
   ],
   "source": [
    "#train model on test \n",
    "Xtest = test[['session_id', 'music']]\n",
    "\n",
    "print(np.unique(reg.predict(Xtest)))"
   ]
  },
  {
   "cell_type": "code",
   "execution_count": null,
   "id": "8b71afa6",
   "metadata": {},
   "outputs": [],
   "source": [
    "#dummy variables "
   ]
  }
 ],
 "metadata": {
  "kernelspec": {
   "display_name": "Python 3 (ipykernel)",
   "language": "python",
   "name": "python3"
  },
  "language_info": {
   "codemirror_mode": {
    "name": "ipython",
    "version": 3
   },
   "file_extension": ".py",
   "mimetype": "text/x-python",
   "name": "python",
   "nbconvert_exporter": "python",
   "pygments_lexer": "ipython3",
   "version": "3.9.13"
  }
 },
 "nbformat": 4,
 "nbformat_minor": 5
}
