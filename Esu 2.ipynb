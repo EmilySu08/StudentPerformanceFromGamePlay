{
 "cells": [
  {
   "cell_type": "code",
   "execution_count": 100,
   "id": "b9c2d549",
   "metadata": {},
   "outputs": [],
   "source": [
    "#import necessary packages\n",
    "import pandas as pd \n",
    "import numpy as np\n",
    "import matplotlib.pyplot as plt\n",
    "from sklearn.model_selection import train_test_split\n",
    "from sklearn.linear_model import LinearRegression\n",
    "from sklearn.tree import DecisionTreeClassifier\n",
    "from sklearn.metrics import classification_report\n",
    "from sklearn.model_selection import KFold, GroupKFold\n",
    "from sklearn.neighbors import KNeighborsClassifier\n",
    "\n",
    "\n",
    "from sklearn.metrics import f1_score\n",
    "from sklearn.svm import LinearSVC\n",
    "from sklearn.svm import SVC\n",
    "import time"
   ]
  },
  {
   "cell_type": "code",
   "execution_count": 3,
   "id": "125a6510",
   "metadata": {},
   "outputs": [],
   "source": [
    "train = pd.read_csv(\"train.csv\")\n",
    "test = pd.read_csv(\"test.csv\")\n",
    "trlabels = pd.read_csv(\"train_labels.csv\")\n",
    "sample = pd.read_csv(\"sample_submission.csv\")"
   ]
  },
  {
   "cell_type": "code",
   "execution_count": 4,
   "id": "ec19772a",
   "metadata": {},
   "outputs": [],
   "source": [
    "#add session and question to trlabels \n",
    "trlabels['session'] = trlabels.session_id.apply(lambda s: int(s.split('_')[0]))\n",
    "trlabels['question'] = trlabels.session_id.apply(lambda s: int(s.split('_')[1][1:]))"
   ]
  },
  {
   "cell_type": "code",
   "execution_count": 5,
   "id": "7d5962de",
   "metadata": {},
   "outputs": [],
   "source": [
    "# Categorical features \n",
    "CATS = ['event_name', 'name','fqid', 'room_fqid', 'text_fqid']\n",
    "\n",
    "# Numerical features\n",
    "NUMS = ['elapsed_time','level','page','room_coor_x', 'room_coor_y', \n",
    "        'screen_coor_x', 'screen_coor_y', 'hover_duration']\n",
    "\n",
    "# preprocess data to turn categorical features into numerical features \n",
    "def feature_engineer(train):\n",
    "    dfs = []\n",
    "    for c in CATS:\n",
    "        tmp = train.groupby(['session_id','level_group'])[c].agg('nunique')\n",
    "        tmp.name = tmp.name + '_nunique'\n",
    "        dfs.append(tmp)\n",
    "    for c in NUMS:\n",
    "        tmp = train.groupby(['session_id','level_group'])[c].agg('mean')\n",
    "        dfs.append(tmp)\n",
    "    for c in NUMS:\n",
    "        tmp = train.groupby(['session_id','level_group'])[c].agg('std')\n",
    "        tmp.name = tmp.name + '_std'\n",
    "        dfs.append(tmp)\n",
    "    df = pd.concat(dfs,axis=1)\n",
    "    df = df.fillna(-1)\n",
    "    df = df.reset_index()\n",
    "    df = df.set_index('session_id')\n",
    "    return df"
   ]
  },
  {
   "cell_type": "code",
   "execution_count": 6,
   "id": "1a466db2",
   "metadata": {},
   "outputs": [
    {
     "name": "stdout",
     "output_type": "stream",
     "text": [
      "We will train with 21 features\n",
      "We will train with 23562 users info\n"
     ]
    }
   ],
   "source": [
    "new_train = feature_engineer(train)\n",
    "FEATURES = [c for c in new_train.columns if c != 'level_group'] # all features except the target\n",
    "print('We will train with', len(FEATURES) ,'features')\n",
    "ALL_USERS = new_train.index.unique() # treat each index as a user\n",
    "print('We will train with', len(ALL_USERS) ,'users info')"
   ]
  },
  {
   "cell_type": "code",
   "execution_count": 101,
   "id": "028ff0ab",
   "metadata": {},
   "outputs": [],
   "source": [
    "def getPredictions(new_train, clf):\n",
    "    gkf = GroupKFold(n_splits=10)\n",
    "    oof = pd.DataFrame(data=np.zeros((len(ALL_USERS),18)), index=ALL_USERS)\n",
    "    \n",
    "    # COMPUTE CV SCORE WITH 5 GROUP K FOLD\n",
    "    for i, (train_index, test_index) in enumerate(gkf.split(X=new_train, groups=new_train.index)):\n",
    "        \n",
    "        # ITERATE THRU QUESTIONS 1 THRU 18\n",
    "        for t in range(1,19):\n",
    "\n",
    "            # USE THIS TRAIN DATA WITH THESE QUESTIONS\n",
    "            if t<=3: grp = '0-4'\n",
    "            elif t<=13: grp = '5-12'\n",
    "            elif t<=22: grp = '13-22'\n",
    "\n",
    "            # TRAIN DATA\n",
    "            train_x = new_train.iloc[train_index]\n",
    "            train_x = train_x.loc[train_x.level_group == grp]\n",
    "            #print(train_x)\n",
    "            train_users = train_x.index.values\n",
    "            train_y = trlabels.loc[trlabels.question==t].set_index('session').loc[train_users]\n",
    "        \n",
    "            # VALID DATA\n",
    "            valid_x = new_train.iloc[test_index]\n",
    "            valid_x = valid_x.loc[valid_x.level_group == grp]\n",
    "            valid_users = valid_x.index.values\n",
    "            valid_y = trlabels.loc[trlabels.question ==t].set_index('session').loc[valid_users]\n",
    "\n",
    "            clf.fit(train_x[FEATURES].astype('float32'), train_y['correct'])\n",
    "\n",
    "            oof.loc[valid_users, t] = clf.predict(valid_x[FEATURES].astype('float32'))\n",
    "    return oof"
   ]
  },
  {
   "cell_type": "code",
   "execution_count": 102,
   "id": "08acc808",
   "metadata": {},
   "outputs": [],
   "source": [
    "linear = getPredictions(new_train, LinearRegression())\n",
    "tree = getPredictions(new_train, DecisionTreeClassifier(max_depth = 5, random_state= 0))\n",
    "knn = getPredictions(new_train, KNeighborsClassifier(n_neighbors= 2,algorithm=\"kd_tree\",n_jobs=-1))\n",
    "\n"
   ]
  },
  {
   "cell_type": "code",
   "execution_count": 103,
   "id": "d25d09cc",
   "metadata": {},
   "outputs": [],
   "source": [
    "#reformat dataframe\n",
    "linear = linear.stack().reset_index()\n",
    "tree = tree.stack().reset_index()\n",
    "knn = knn.stack().reset_index()\n",
    "\n",
    "linear.rename(columns = {'session_id':'session', 'level_1':'Pquestion', 0 :'Pcorrect'}, inplace = True)\n",
    "tree.rename(columns = {'session_id':'session', 'level_1':'Pquestion', 0 :'Pcorrect'}, inplace = True)\n",
    "knn.rename(columns = {'session_id':'session', 'level_1':'Pquestion', 0 :'Pcorrect'}, inplace = True)\n",
    "\n",
    "linear['Pcorrect'] = linear['Pcorrect'].astype('int')\n",
    "tree['Pcorrect'] = tree['Pcorrect'].astype('int')\n",
    "knn['Pcorrect'] = knn['Pcorrect'].astype('int')\n",
    "\n",
    "linear = linear.sort_values(by=['Pquestion'])\n",
    "tree = tree.sort_values(by=['Pquestion'])\n",
    "knn = knn.sort_values(by=['Pquestion'])"
   ]
  },
  {
   "cell_type": "code",
   "execution_count": 104,
   "id": "4cd7453c",
   "metadata": {},
   "outputs": [
    {
     "data": {
      "text/html": [
       "<div>\n",
       "<style scoped>\n",
       "    .dataframe tbody tr th:only-of-type {\n",
       "        vertical-align: middle;\n",
       "    }\n",
       "\n",
       "    .dataframe tbody tr th {\n",
       "        vertical-align: top;\n",
       "    }\n",
       "\n",
       "    .dataframe thead th {\n",
       "        text-align: right;\n",
       "    }\n",
       "</style>\n",
       "<table border=\"1\" class=\"dataframe\">\n",
       "  <thead>\n",
       "    <tr style=\"text-align: right;\">\n",
       "      <th></th>\n",
       "      <th>session</th>\n",
       "      <th>correct</th>\n",
       "      <th>question</th>\n",
       "      <th>Pquestion</th>\n",
       "      <th>Pcorrect</th>\n",
       "    </tr>\n",
       "  </thead>\n",
       "  <tbody>\n",
       "    <tr>\n",
       "      <th>0</th>\n",
       "      <td>20090312431273200</td>\n",
       "      <td>1</td>\n",
       "      <td>1</td>\n",
       "      <td>0</td>\n",
       "      <td>0</td>\n",
       "    </tr>\n",
       "    <tr>\n",
       "      <th>19</th>\n",
       "      <td>20090312433251036</td>\n",
       "      <td>0</td>\n",
       "      <td>1</td>\n",
       "      <td>0</td>\n",
       "      <td>0</td>\n",
       "    </tr>\n",
       "    <tr>\n",
       "      <th>38</th>\n",
       "      <td>20090312455206810</td>\n",
       "      <td>1</td>\n",
       "      <td>1</td>\n",
       "      <td>0</td>\n",
       "      <td>0</td>\n",
       "    </tr>\n",
       "    <tr>\n",
       "      <th>57</th>\n",
       "      <td>20090313091715820</td>\n",
       "      <td>0</td>\n",
       "      <td>1</td>\n",
       "      <td>0</td>\n",
       "      <td>0</td>\n",
       "    </tr>\n",
       "    <tr>\n",
       "      <th>76</th>\n",
       "      <td>20090313571836404</td>\n",
       "      <td>1</td>\n",
       "      <td>1</td>\n",
       "      <td>0</td>\n",
       "      <td>0</td>\n",
       "    </tr>\n",
       "    <tr>\n",
       "      <th>...</th>\n",
       "      <td>...</td>\n",
       "      <td>...</td>\n",
       "      <td>...</td>\n",
       "      <td>...</td>\n",
       "      <td>...</td>\n",
       "    </tr>\n",
       "    <tr>\n",
       "      <th>8058127</th>\n",
       "      <td>22100215342220508</td>\n",
       "      <td>1</td>\n",
       "      <td>18</td>\n",
       "      <td>18</td>\n",
       "      <td>1</td>\n",
       "    </tr>\n",
       "    <tr>\n",
       "      <th>8058146</th>\n",
       "      <td>22100215460321130</td>\n",
       "      <td>1</td>\n",
       "      <td>18</td>\n",
       "      <td>18</td>\n",
       "      <td>1</td>\n",
       "    </tr>\n",
       "    <tr>\n",
       "      <th>8058165</th>\n",
       "      <td>22100217104993650</td>\n",
       "      <td>1</td>\n",
       "      <td>18</td>\n",
       "      <td>18</td>\n",
       "      <td>0</td>\n",
       "    </tr>\n",
       "    <tr>\n",
       "      <th>8058184</th>\n",
       "      <td>22100219442786200</td>\n",
       "      <td>1</td>\n",
       "      <td>18</td>\n",
       "      <td>18</td>\n",
       "      <td>1</td>\n",
       "    </tr>\n",
       "    <tr>\n",
       "      <th>8058203</th>\n",
       "      <td>22100221145014656</td>\n",
       "      <td>1</td>\n",
       "      <td>18</td>\n",
       "      <td>18</td>\n",
       "      <td>1</td>\n",
       "    </tr>\n",
       "  </tbody>\n",
       "</table>\n",
       "<p>8058204 rows × 5 columns</p>\n",
       "</div>"
      ],
      "text/plain": [
       "                   session  correct  question  Pquestion  Pcorrect\n",
       "0        20090312431273200        1         1          0         0\n",
       "19       20090312433251036        0         1          0         0\n",
       "38       20090312455206810        1         1          0         0\n",
       "57       20090313091715820        0         1          0         0\n",
       "76       20090313571836404        1         1          0         0\n",
       "...                    ...      ...       ...        ...       ...\n",
       "8058127  22100215342220508        1        18         18         1\n",
       "8058146  22100215460321130        1        18         18         1\n",
       "8058165  22100217104993650        1        18         18         0\n",
       "8058184  22100219442786200        1        18         18         1\n",
       "8058203  22100221145014656        1        18         18         1\n",
       "\n",
       "[8058204 rows x 5 columns]"
      ]
     },
     "execution_count": 104,
     "metadata": {},
     "output_type": "execute_result"
    }
   ],
   "source": [
    "#put actual correct label and predicted label together\n",
    "linear_combined = pd.merge(trlabels[['session', 'correct', 'question']], linear, left_on='session', right_on='session', how='left')\n",
    "\n",
    "tree_combined = pd.merge(trlabels[['session', 'correct', 'question']], tree, left_on='session', right_on='session', how='left')\n",
    "\n",
    "knn_combined = pd.merge(trlabels[['session', 'correct', 'question']], knn, left_on='session', right_on='session', how='left')\n",
    "\n",
    "#sort new dataframe\n",
    "linear_combined.sort_values(by=['question', 'Pquestion'])\n",
    "tree_combined.sort_values(by=['question', 'Pquestion'])\n",
    "knn_combined.sort_values(by=['question', 'Pquestion'])"
   ]
  },
  {
   "cell_type": "code",
   "execution_count": 105,
   "id": "3b572611",
   "metadata": {},
   "outputs": [
    {
     "name": "stdout",
     "output_type": "stream",
     "text": [
      "              precision    recall  f1-score   support\n",
      "\n",
      "           0      0.334     0.222     0.267   2372055\n",
      "           1      0.715     0.816     0.762   5686149\n",
      "\n",
      "    accuracy                          0.641   8058204\n",
      "   macro avg      0.525     0.519     0.514   8058204\n",
      "weighted avg      0.603     0.641     0.616   8058204\n",
      "\n"
     ]
    }
   ],
   "source": [
    "#FIND ACCURACY\n",
    "print(classification_report(tree_combined['correct'], tree_combined['Pcorrect'], digits = 3))"
   ]
  },
  {
   "cell_type": "code",
   "execution_count": 106,
   "id": "fe0d197d",
   "metadata": {},
   "outputs": [
    {
     "name": "stdout",
     "output_type": "stream",
     "text": [
      "              precision    recall  f1-score   support\n",
      "\n",
      "           0      0.294     0.999     0.455   2372055\n",
      "           1      0.760     0.001     0.002   5686149\n",
      "\n",
      "   micro avg      0.295     0.295     0.295   8058204\n",
      "   macro avg      0.527     0.500     0.228   8058204\n",
      "weighted avg      0.623     0.295     0.135   8058204\n",
      "\n"
     ]
    }
   ],
   "source": [
    "#errror when finding accuracy for trees \n",
    "print(classification_report(linear_combined['correct'], linear_combined['Pcorrect'], digits = 3, \n",
    "                            zero_division= 0, labels = [0,1]))"
   ]
  },
  {
   "cell_type": "code",
   "execution_count": 107,
   "id": "17daa168",
   "metadata": {},
   "outputs": [
    {
     "name": "stdout",
     "output_type": "stream",
     "text": [
      "              precision    recall  f1-score   support\n",
      "\n",
      "           0      0.302     0.509     0.379   2372055\n",
      "           1      0.713     0.509     0.594   5686149\n",
      "\n",
      "    accuracy                          0.509   8058204\n",
      "   macro avg      0.507     0.509     0.486   8058204\n",
      "weighted avg      0.592     0.509     0.530   8058204\n",
      "\n"
     ]
    }
   ],
   "source": [
    "print(classification_report(knn_combined['correct'], knn_combined['Pcorrect'], digits = 3))"
   ]
  },
  {
   "cell_type": "code",
   "execution_count": null,
   "id": "65925644",
   "metadata": {},
   "outputs": [],
   "source": []
  }
 ],
 "metadata": {
  "kernelspec": {
   "display_name": "Python 3 (ipykernel)",
   "language": "python",
   "name": "python3"
  },
  "language_info": {
   "codemirror_mode": {
    "name": "ipython",
    "version": 3
   },
   "file_extension": ".py",
   "mimetype": "text/x-python",
   "name": "python",
   "nbconvert_exporter": "python",
   "pygments_lexer": "ipython3",
   "version": "3.9.7"
  }
 },
 "nbformat": 4,
 "nbformat_minor": 5
}
