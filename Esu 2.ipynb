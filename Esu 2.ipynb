{
 "cells": [
  {
   "cell_type": "code",
   "execution_count": 73,
   "id": "b9c2d549",
   "metadata": {},
   "outputs": [],
   "source": [
    "#import necessary packages\n",
    "import pandas as pd \n",
    "import numpy as np\n",
    "import matplotlib.pyplot as plt\n",
    "from sklearn.model_selection import train_test_split\n",
    "from sklearn.linear_model import LinearRegression\n",
    "from sklearn.tree import DecisionTreeClassifier\n",
    "from sklearn.metrics import classification_report\n",
    "from sklearn.model_selection import KFold, GroupKFold\n",
    "\n",
    "from sklearn.metrics import f1_score\n",
    "from sklearn.svm import LinearSVC\n",
    "from sklearn.svm import SVC\n",
    "import time"
   ]
  },
  {
   "cell_type": "code",
   "execution_count": 3,
   "id": "125a6510",
   "metadata": {},
   "outputs": [],
   "source": [
    "train = pd.read_csv(\"train.csv\")\n",
    "test = pd.read_csv(\"test.csv\")\n",
    "trlabels = pd.read_csv(\"train_labels.csv\")\n",
    "sample = pd.read_csv(\"sample_submission.csv\")"
   ]
  },
  {
   "cell_type": "code",
   "execution_count": 4,
   "id": "ec19772a",
   "metadata": {},
   "outputs": [],
   "source": [
    "trlabels['session'] = trlabels.session_id.apply(lambda s: int(s.split('_')[0]))\n",
    "trlabels['question'] = trlabels.session_id.apply(lambda s: int(s.split('_')[1][1:]))"
   ]
  },
  {
   "cell_type": "code",
   "execution_count": 5,
   "id": "7d5962de",
   "metadata": {},
   "outputs": [],
   "source": [
    "# Categorical features \n",
    "CATS = ['event_name', 'name','fqid', 'room_fqid', 'text_fqid']\n",
    "\n",
    "# Numerical features\n",
    "NUMS = ['elapsed_time','level','page','room_coor_x', 'room_coor_y', \n",
    "        'screen_coor_x', 'screen_coor_y', 'hover_duration']\n",
    "\n",
    "# define the function to create the features\n",
    "def feature_engineer(train):\n",
    "    dfs = []\n",
    "    for c in CATS:\n",
    "        tmp = train.groupby(['session_id','level_group'])[c].agg('nunique')\n",
    "        tmp.name = tmp.name + '_nunique'\n",
    "        dfs.append(tmp)\n",
    "    for c in NUMS:\n",
    "        tmp = train.groupby(['session_id','level_group'])[c].agg('mean')\n",
    "        dfs.append(tmp)\n",
    "    for c in NUMS:\n",
    "        tmp = train.groupby(['session_id','level_group'])[c].agg('std')\n",
    "        tmp.name = tmp.name + '_std'\n",
    "        dfs.append(tmp)\n",
    "    df = pd.concat(dfs,axis=1)\n",
    "    df = df.fillna(-1)\n",
    "    df = df.reset_index()\n",
    "    df = df.set_index('session_id')\n",
    "    return df"
   ]
  },
  {
   "cell_type": "code",
   "execution_count": 6,
   "id": "1a466db2",
   "metadata": {},
   "outputs": [
    {
     "name": "stdout",
     "output_type": "stream",
     "text": [
      "We will train with 21 features\n",
      "We will train with 23562 users info\n"
     ]
    }
   ],
   "source": [
    "new_train = feature_engineer(train)\n",
    "FEATURES = [c for c in new_train.columns if c != 'level_group'] # all features except the target\n",
    "print('We will train with', len(FEATURES) ,'features')\n",
    "ALL_USERS = new_train.index.unique() # treat each index as a user\n",
    "print('We will train with', len(ALL_USERS) ,'users info')"
   ]
  },
  {
   "cell_type": "code",
   "execution_count": 87,
   "id": "028ff0ab",
   "metadata": {},
   "outputs": [],
   "source": [
    "def getPredictions(new_train, clf):\n",
    "    gkf = GroupKFold(n_splits=15)\n",
    "    oof = pd.DataFrame(data=np.zeros((len(ALL_USERS),18)), index=ALL_USERS)\n",
    "    \n",
    "    # COMPUTE CV SCORE WITH 5 GROUP K FOLD\n",
    "    for i, (train_index, test_index) in enumerate(gkf.split(X=new_train, groups=new_train.index)):\n",
    "        \n",
    "        # ITERATE THRU QUESTIONS 1 THRU 18\n",
    "        for t in range(1,19):\n",
    "\n",
    "            # USE THIS TRAIN DATA WITH THESE QUESTIONS\n",
    "            if t<=3: grp = '0-4'\n",
    "            elif t<=13: grp = '5-12'\n",
    "            elif t<=22: grp = '13-22'\n",
    "\n",
    "            # TRAIN DATA\n",
    "            train_x = new_train.iloc[train_index]\n",
    "            train_x = train_x.loc[train_x.level_group == grp]\n",
    "            #print(train_x)\n",
    "            train_users = train_x.index.values\n",
    "            train_y = trlabels.loc[trlabels.question==t].set_index('session').loc[train_users]\n",
    "        \n",
    "            # VALID DATA\n",
    "            valid_x = new_train.iloc[test_index]\n",
    "            valid_x = valid_x.loc[valid_x.level_group == grp]\n",
    "            valid_users = valid_x.index.values\n",
    "            valid_y = trlabels.loc[trlabels.question ==t].set_index('session').loc[valid_users]\n",
    "\n",
    "            clf.fit(train_x[FEATURES].astype('float32'), train_y['correct'])\n",
    "\n",
    "            oof.loc[valid_users, t] = clf.predict(valid_x[FEATURES].astype('float32'))\n",
    "    return oof"
   ]
  },
  {
   "cell_type": "code",
   "execution_count": null,
   "id": "18773480",
   "metadata": {},
   "outputs": [],
   "source": [
    "linear = getPredictions(new_train, LinearRegression())\n",
    "tree = getPredictions(new_train, DecisionTreeClassifier(max_depth = 5, min_samples_split = 4, random_state= 0))"
   ]
  },
  {
   "cell_type": "code",
   "execution_count": null,
   "id": "9c689664",
   "metadata": {},
   "outputs": [],
   "source": [
    "#reformat dataframe\n",
    "linear = linear.stack().reset_index()\n",
    "tree = tree.stack().reset_index()\n",
    "\n",
    "linear.rename(columns = {'session_id':'session', 'level_1':'Pquestion', 0 :'Pcorrect'}, inplace = True)\n",
    "tree.rename(columns = {'session_id':'session', 'level_1':'Pquestion', 0 :'Pcorrect'}, inplace = True)\n",
    "\n",
    "linear['Pcorrect'] = linear['Pcorrect'].astype('int')\n",
    "tree['Pcorrect'] = tree['Pcorrect'].astype('int')\n",
    "\n",
    "linear = linear.sort_values(by=['Pquestion'])\n",
    "tree = tree.sort_values(by=['Pquestion'])"
   ]
  },
  {
   "cell_type": "code",
   "execution_count": null,
   "id": "306483b7",
   "metadata": {},
   "outputs": [],
   "source": [
    "#put actual correct label and predicted label together\n",
    "linear_combined = pd.merge(trlabels[['session', 'correct', 'question']], linear, left_on='session', right_on='session', how='left')\n",
    "\n",
    "tree_combined = pd.merge(trlabels[['session', 'correct', 'question']], tree, left_on='session', right_on='session', how='left')\n",
    "\n",
    "#sort new dataframe\n",
    "linear_combined.sort_values(by=['question', 'Pquestion'])\n",
    "tree_combined.sort_values(by=['question', 'Pquestion'])"
   ]
  },
  {
   "cell_type": "code",
   "execution_count": null,
   "id": "da3b70f2",
   "metadata": {},
   "outputs": [],
   "source": [
    "#FIND ACCURACY\n",
    "print(classification_report(tree_combined['correct'], tree_combined['Pcorrect'], digits = 3))"
   ]
  },
  {
   "cell_type": "code",
   "execution_count": null,
   "id": "39b76234",
   "metadata": {},
   "outputs": [],
   "source": [
    "#errror when finding accuracy for trees \n",
    "print(classification_report(linear_combined['correct'], linear_combined['Pcorrect'], digits = 3, \n",
    "                            zero_division= 0, labels = [0,1]))"
   ]
  },
  {
   "cell_type": "code",
   "execution_count": null,
   "id": "50a4f136",
   "metadata": {},
   "outputs": [],
   "source": []
  }
 ],
 "metadata": {
  "kernelspec": {
   "display_name": "Python 3 (ipykernel)",
   "language": "python",
   "name": "python3"
  },
  "language_info": {
   "codemirror_mode": {
    "name": "ipython",
    "version": 3
   },
   "file_extension": ".py",
   "mimetype": "text/x-python",
   "name": "python",
   "nbconvert_exporter": "python",
   "pygments_lexer": "ipython3",
   "version": "3.9.7"
  }
 },
 "nbformat": 4,
 "nbformat_minor": 5
}
